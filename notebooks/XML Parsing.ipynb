{
 "cells": [
  {
   "cell_type": "markdown",
   "metadata": {},
   "source": [
    "# XML Parsing\n",
    "\n",
    "Neste tutorial, vamos executar alguns experimentos com um arquivo **XML** chamado `livros.xml`\n",
    "\n",
    "Para tais tarefas, utilizaremos as bibliotecas:\n",
    "\n",
    "- **Requests:** De forma a obtermos o **arquivo xml** localizado em **https://pythonwebscraping.netlify.app/livros.xml**\n",
    "- **Beautiful Soup:** Para executarmos buscas em nosso arquivo\n",
    "- **xml:** Para executarmos consultas e manipular os elementos de nosso arquivo"
   ]
  },
  {
   "cell_type": "code",
   "execution_count": 338,
   "metadata": {},
   "outputs": [],
   "source": [
    "import xml.etree.ElementTree as et \n",
    "from bs4 import BeautifulSoup\n",
    "import requests"
   ]
  },
  {
   "cell_type": "code",
   "execution_count": 339,
   "metadata": {},
   "outputs": [],
   "source": [
    "r = requests.get('https://pythonwebscraping.netlify.app/livros.xml')"
   ]
  },
  {
   "cell_type": "markdown",
   "metadata": {},
   "source": [
    "Obtendo a string que representa nosso arquivo"
   ]
  },
  {
   "cell_type": "code",
   "execution_count": 340,
   "metadata": {},
   "outputs": [
    {
     "data": {
      "text/plain": [
       "'<biblioteca>\\n\\t<livro categoria=\"Cyber Punk\">\\n\\t\\t<titulo lang=\"en\">Neuromancer</titulo>\\n\\t\\t<autor>William Gibson</autor>\\n\\t\\t<ano>1984</ano>\\n\\t</livro>\\n\\t<livro categoria=\"Distopia\">\\n\\t\\t<titulo lang=\"en\">Nineteen Eighty-Four: A Novel</titulo>\\n\\t\\t<autor>George Orwell</autor>\\n\\t\\t<ano>1949</ano>\\n\\t</livro>\\n\\t<livro categoria=\"Ciência da Computação\">\\n\\t\\t<titulo lang=\"en\">How to Think Like a Computer Scientist</titulo>\\n\\t\\t<autor>Peter Wentworth, Jeffrey Elkner, Allen B. Downey, and Chris Meyers</autor>\\n\\t\\t<ano>2012</ano>\\n\\t</livro>\\n\\t<livro categoria=\"Programação\">\\n\\t\\t<titulo lang=\"en\">Making Games with Python and Pygame</titulo>\\n\\t\\t<autor>AI Sweigart</autor>\\n\\t\\t<ano>2012</ano>\\n\\t</livro>\\n</biblioteca>\\n'"
      ]
     },
     "execution_count": 340,
     "metadata": {},
     "output_type": "execute_result"
    }
   ],
   "source": [
    "r.text"
   ]
  },
  {
   "cell_type": "markdown",
   "metadata": {},
   "source": [
    "Vamos então guardar a string em uma variável que chamaremos de **xml**"
   ]
  },
  {
   "cell_type": "code",
   "execution_count": 341,
   "metadata": {},
   "outputs": [
    {
     "name": "stdout",
     "output_type": "stream",
     "text": [
      "<biblioteca>\n",
      "\t<livro categoria=\"Cyber Punk\">\n",
      "\t\t<titulo lang=\"en\">Neuromancer</titulo>\n",
      "\t\t<autor>William Gibson</autor>\n",
      "\t\t<ano>1984</ano>\n",
      "\t</livro>\n",
      "\t<livro categoria=\"Distopia\">\n",
      "\t\t<titulo lang=\"en\">Nineteen Eighty-Four: A Novel</titulo>\n",
      "\t\t<autor>George Orwell</autor>\n",
      "\t\t<ano>1949</ano>\n",
      "\t</livro>\n",
      "\t<livro categoria=\"Ciência da Computação\">\n",
      "\t\t<titulo lang=\"en\">How to Think Like a Computer Scientist</titulo>\n",
      "\t\t<autor>Peter Wentworth, Jeffrey Elkner, Allen B. Downey, and Chris Meyers</autor>\n",
      "\t\t<ano>2012</ano>\n",
      "\t</livro>\n",
      "\t<livro categoria=\"Programação\">\n",
      "\t\t<titulo lang=\"en\">Making Games with Python and Pygame</titulo>\n",
      "\t\t<autor>AI Sweigart</autor>\n",
      "\t\t<ano>2012</ano>\n",
      "\t</livro>\n",
      "</biblioteca>\n",
      "\n"
     ]
    }
   ],
   "source": [
    "xml = r.text\n",
    "print(xml)"
   ]
  },
  {
   "cell_type": "markdown",
   "metadata": {},
   "source": [
    "Vamos passar essa string para o construtor `BeautifulSoup()`, utilizaremos neste caso específico o parser **'xml'**"
   ]
  },
  {
   "cell_type": "code",
   "execution_count": 342,
   "metadata": {},
   "outputs": [],
   "source": [
    "soup = BeautifulSoup(xml, \"xml\")"
   ]
  },
  {
   "cell_type": "markdown",
   "metadata": {},
   "source": [
    "Podemos também usar o método `prettify()` para imprimir o nosso arquivo"
   ]
  },
  {
   "cell_type": "code",
   "execution_count": 343,
   "metadata": {},
   "outputs": [
    {
     "data": {
      "text/plain": [
       "'<?xml version=\"1.0\" encoding=\"utf-8\"?>\\n<biblioteca>\\n <livro categoria=\"Cyber Punk\">\\n  <titulo lang=\"en\">\\n   Neuromancer\\n  </titulo>\\n  <autor>\\n   William Gibson\\n  </autor>\\n  <ano>\\n   1984\\n  </ano>\\n </livro>\\n <livro categoria=\"Distopia\">\\n  <titulo lang=\"en\">\\n   Nineteen Eighty-Four: A Novel\\n  </titulo>\\n  <autor>\\n   George Orwell\\n  </autor>\\n  <ano>\\n   1949\\n  </ano>\\n </livro>\\n <livro categoria=\"Ciência da Computação\">\\n  <titulo lang=\"en\">\\n   How to Think Like a Computer Scientist\\n  </titulo>\\n  <autor>\\n   Peter Wentworth, Jeffrey Elkner, Allen B. Downey, and Chris Meyers\\n  </autor>\\n  <ano>\\n   2012\\n  </ano>\\n </livro>\\n <livro categoria=\"Programação\">\\n  <titulo lang=\"en\">\\n   Making Games with Python and Pygame\\n  </titulo>\\n  <autor>\\n   AI Sweigart\\n  </autor>\\n  <ano>\\n   2012\\n  </ano>\\n </livro>\\n</biblioteca>'"
      ]
     },
     "execution_count": 343,
     "metadata": {},
     "output_type": "execute_result"
    }
   ],
   "source": [
    "soup.prettify()"
   ]
  },
  {
   "cell_type": "markdown",
   "metadata": {},
   "source": [
    "Selecionando o conteúdo do elemento `<livro>`"
   ]
  },
  {
   "cell_type": "code",
   "execution_count": 344,
   "metadata": {},
   "outputs": [
    {
     "data": {
      "text/plain": [
       "[<livro categoria=\"Cyber Punk\">\n",
       " <titulo lang=\"en\">Neuromancer</titulo>\n",
       " <autor>William Gibson</autor>\n",
       " <ano>1984</ano>\n",
       " </livro>,\n",
       " <livro categoria=\"Distopia\">\n",
       " <titulo lang=\"en\">Nineteen Eighty-Four: A Novel</titulo>\n",
       " <autor>George Orwell</autor>\n",
       " <ano>1949</ano>\n",
       " </livro>,\n",
       " <livro categoria=\"Ciência da Computação\">\n",
       " <titulo lang=\"en\">How to Think Like a Computer Scientist</titulo>\n",
       " <autor>Peter Wentworth, Jeffrey Elkner, Allen B. Downey, and Chris Meyers</autor>\n",
       " <ano>2012</ano>\n",
       " </livro>,\n",
       " <livro categoria=\"Programação\">\n",
       " <titulo lang=\"en\">Making Games with Python and Pygame</titulo>\n",
       " <autor>AI Sweigart</autor>\n",
       " <ano>2012</ano>\n",
       " </livro>]"
      ]
     },
     "execution_count": 344,
     "metadata": {},
     "output_type": "execute_result"
    }
   ],
   "source": [
    "soup.select(\"livro\")"
   ]
  },
  {
   "cell_type": "markdown",
   "metadata": {},
   "source": [
    "Selecionando os elementos `<titulo>`"
   ]
  },
  {
   "cell_type": "code",
   "execution_count": 345,
   "metadata": {},
   "outputs": [
    {
     "data": {
      "text/plain": [
       "[<titulo lang=\"en\">Neuromancer</titulo>,\n",
       " <titulo lang=\"en\">Nineteen Eighty-Four: A Novel</titulo>,\n",
       " <titulo lang=\"en\">How to Think Like a Computer Scientist</titulo>,\n",
       " <titulo lang=\"en\">Making Games with Python and Pygame</titulo>]"
      ]
     },
     "execution_count": 345,
     "metadata": {},
     "output_type": "execute_result"
    }
   ],
   "source": [
    "soup.select(\"titulo\")"
   ]
  },
  {
   "cell_type": "markdown",
   "metadata": {},
   "source": [
    "Podemos utilizar um **for loop** para obtermos somente o texto"
   ]
  },
  {
   "cell_type": "code",
   "execution_count": 346,
   "metadata": {},
   "outputs": [
    {
     "name": "stdout",
     "output_type": "stream",
     "text": [
      "Neuromancer\n",
      "Nineteen Eighty-Four: A Novel\n",
      "How to Think Like a Computer Scientist\n",
      "Making Games with Python and Pygame\n"
     ]
    }
   ],
   "source": [
    "for titulo in soup.select(\"titulo\"):\n",
    "    print(titulo.text)"
   ]
  },
  {
   "cell_type": "markdown",
   "metadata": {},
   "source": [
    "Podemos buscar pelo atributo **'categoria'**"
   ]
  },
  {
   "cell_type": "code",
   "execution_count": 347,
   "metadata": {},
   "outputs": [
    {
     "data": {
      "text/plain": [
       "[<livro categoria=\"Cyber Punk\">\n",
       " <titulo lang=\"en\">Neuromancer</titulo>\n",
       " <autor>William Gibson</autor>\n",
       " <ano>1984</ano>\n",
       " </livro>]"
      ]
     },
     "execution_count": 347,
     "metadata": {},
     "output_type": "execute_result"
    }
   ],
   "source": [
    "soup.find_all(\"livro\", {\"categoria\" : \"Cyber Punk\"})"
   ]
  },
  {
   "cell_type": "markdown",
   "metadata": {},
   "source": [
    "Podemos também buscar pelo atributo **'lang'**"
   ]
  },
  {
   "cell_type": "code",
   "execution_count": 348,
   "metadata": {},
   "outputs": [
    {
     "data": {
      "text/plain": [
       "[<titulo lang=\"en\">Neuromancer</titulo>,\n",
       " <titulo lang=\"en\">Nineteen Eighty-Four: A Novel</titulo>,\n",
       " <titulo lang=\"en\">How to Think Like a Computer Scientist</titulo>,\n",
       " <titulo lang=\"en\">Making Games with Python and Pygame</titulo>]"
      ]
     },
     "execution_count": 348,
     "metadata": {},
     "output_type": "execute_result"
    }
   ],
   "source": [
    "soup.find_all(\"titulo\", {\"lang\" : \"en\"})"
   ]
  },
  {
   "cell_type": "markdown",
   "metadata": {},
   "source": [
    "Agora vamos construir um elemento `xml.etree.ElementTree.Element` através do método `fromstring()`\n",
    "\n",
    "- Passaremos nossa string xml como argumento\n",
    "- A variável será chamada de tree, uma vez que ela representará uma árvore XML"
   ]
  },
  {
   "cell_type": "code",
   "execution_count": 349,
   "metadata": {},
   "outputs": [
    {
     "data": {
      "text/plain": [
       "xml.etree.ElementTree.Element"
      ]
     },
     "execution_count": 349,
     "metadata": {},
     "output_type": "execute_result"
    }
   ],
   "source": [
    "tree = et.fromstring(xml)\n",
    "type(tree)"
   ]
  },
  {
   "cell_type": "markdown",
   "metadata": {},
   "source": [
    "Vejamos os atributos e métodos disponíveis"
   ]
  },
  {
   "cell_type": "code",
   "execution_count": 350,
   "metadata": {},
   "outputs": [
    {
     "name": "stdout",
     "output_type": "stream",
     "text": [
      "['__class__', '__copy__', '__deepcopy__', '__delattr__', '__delitem__', '__dir__', '__doc__', '__eq__', '__format__', '__ge__', '__getattribute__', '__getitem__', '__getstate__', '__gt__', '__hash__', '__init__', '__init_subclass__', '__le__', '__len__', '__lt__', '__ne__', '__new__', '__reduce__', '__reduce_ex__', '__repr__', '__setattr__', '__setitem__', '__setstate__', '__sizeof__', '__str__', '__subclasshook__', 'append', 'attrib', 'clear', 'extend', 'find', 'findall', 'findtext', 'get', 'getchildren', 'getiterator', 'insert', 'items', 'iter', 'iterfind', 'itertext', 'keys', 'makeelement', 'remove', 'set', 'tag', 'tail', 'text']\n"
     ]
    }
   ],
   "source": [
    "print(dir(tree))"
   ]
  },
  {
   "cell_type": "markdown",
   "metadata": {},
   "source": [
    "O atributo **tag** nos traz o elemento raíz da árvore (root)"
   ]
  },
  {
   "cell_type": "code",
   "execution_count": 351,
   "metadata": {},
   "outputs": [
    {
     "data": {
      "text/plain": [
       "'biblioteca'"
      ]
     },
     "execution_count": 351,
     "metadata": {},
     "output_type": "execute_result"
    }
   ],
   "source": [
    "tree.tag"
   ]
  },
  {
   "cell_type": "markdown",
   "metadata": {},
   "source": [
    "Através do **for loop** podemos buscar as tags e atributos de nossa biblioteca"
   ]
  },
  {
   "cell_type": "code",
   "execution_count": 352,
   "metadata": {},
   "outputs": [
    {
     "name": "stdout",
     "output_type": "stream",
     "text": [
      "livro {'categoria': 'Cyber Punk'}\n",
      "livro {'categoria': 'Distopia'}\n",
      "livro {'categoria': 'Ciência da Computação'}\n",
      "livro {'categoria': 'Programação'}\n"
     ]
    }
   ],
   "source": [
    "for livro in tree.findall(\"livro\"):\n",
    "    print(livro.tag, livro.attrib)"
   ]
  },
  {
   "cell_type": "markdown",
   "metadata": {},
   "source": [
    "Com o **for loop**, podemos acessar somente o conteúdo dos elementos, neste caso:\n",
    "\n",
    "- Título\n",
    "- Ano"
   ]
  },
  {
   "cell_type": "code",
   "execution_count": 353,
   "metadata": {},
   "outputs": [
    {
     "name": "stdout",
     "output_type": "stream",
     "text": [
      "Neuromancer | 1984\n",
      "Nineteen Eighty-Four: A Novel | 1949\n",
      "How to Think Like a Computer Scientist | 2012\n",
      "Making Games with Python and Pygame | 2012\n"
     ]
    }
   ],
   "source": [
    "for livro in tree.findall(\"livro\"):\n",
    "    titulo = livro.find('titulo').text\n",
    "    ano = livro.find('ano').text\n",
    "    print(f'{titulo} | {ano}')"
   ]
  },
  {
   "cell_type": "markdown",
   "metadata": {},
   "source": [
    "Com o for loop, podemos acessar somente o conteúdo dos elementos, neste caso:\n",
    "\n",
    "- Autor"
   ]
  },
  {
   "cell_type": "code",
   "execution_count": 354,
   "metadata": {},
   "outputs": [
    {
     "name": "stdout",
     "output_type": "stream",
     "text": [
      "William Gibson\n",
      "George Orwell\n",
      "Peter Wentworth, Jeffrey Elkner, Allen B. Downey, and Chris Meyers\n",
      "AI Sweigart\n"
     ]
    }
   ],
   "source": [
    "for livro in tree.findall('livro'):\n",
    "    autor = livro.find('autor').text\n",
    "    print(autor)"
   ]
  },
  {
   "cell_type": "markdown",
   "metadata": {},
   "source": [
    "### Inserindo um Novo Elemento na Árvore"
   ]
  },
  {
   "cell_type": "markdown",
   "metadata": {},
   "source": [
    "Criando um novo sub-elemento livro com o atributo **categoria='Dystopia'**"
   ]
  },
  {
   "cell_type": "code",
   "execution_count": 355,
   "metadata": {},
   "outputs": [],
   "source": [
    "novo_livro = et.SubElement(tree, 'livro', attrib={'categoria':'Dystopia'})"
   ]
  },
  {
   "cell_type": "markdown",
   "metadata": {},
   "source": [
    "Criando um novo sub-elemento **titulo**"
   ]
  },
  {
   "cell_type": "code",
   "execution_count": 356,
   "metadata": {},
   "outputs": [],
   "source": [
    "novo_livro_titulo = et.SubElement(novo_livro, 'titulo')"
   ]
  },
  {
   "cell_type": "markdown",
   "metadata": {},
   "source": [
    "Criando um novo sub-elemento **autor**"
   ]
  },
  {
   "cell_type": "code",
   "execution_count": 357,
   "metadata": {},
   "outputs": [],
   "source": [
    "novo_livro_autor = et.SubElement(novo_livro, 'autor')"
   ]
  },
  {
   "cell_type": "markdown",
   "metadata": {},
   "source": [
    "Criando um novo sub-elemento **ano**"
   ]
  },
  {
   "cell_type": "code",
   "execution_count": 358,
   "metadata": {},
   "outputs": [],
   "source": [
    "novo_livro_ano = et.SubElement(novo_livro, 'ano')"
   ]
  },
  {
   "cell_type": "markdown",
   "metadata": {},
   "source": [
    "Inserindo os respectivos textos em cada elemento"
   ]
  },
  {
   "cell_type": "code",
   "execution_count": 359,
   "metadata": {},
   "outputs": [],
   "source": [
    "novo_livro_titulo.text = 'Brave New World'\n",
    "novo_livro_autor.text = 'Aldous Huxley'\n",
    "novo_livro_ano.text = '1931'"
   ]
  },
  {
   "cell_type": "markdown",
   "metadata": {},
   "source": [
    "Através de um **for loop** vamos percorrer nossa árvore atualizada"
   ]
  },
  {
   "cell_type": "code",
   "execution_count": 360,
   "metadata": {},
   "outputs": [
    {
     "name": "stdout",
     "output_type": "stream",
     "text": [
      "Neuromancer William Gibson 1984\n",
      "Nineteen Eighty-Four: A Novel George Orwell 1949\n",
      "How to Think Like a Computer Scientist Peter Wentworth, Jeffrey Elkner, Allen B. Downey, and Chris Meyers 2012\n",
      "Making Games with Python and Pygame AI Sweigart 2012\n",
      "Brave New World Aldous Huxley 1931\n"
     ]
    }
   ],
   "source": [
    "for livro in tree.findall('livro'):\n",
    "    titulo = livro.find('titulo').text\n",
    "    autor = livro.find('autor').text\n",
    "    ano = livro.find('ano').text\n",
    "    print(f'{titulo} {autor} {ano}')"
   ]
  },
  {
   "cell_type": "markdown",
   "metadata": {},
   "source": [
    "Para escrevermos em um arquivo, será necessário construirmos uma `ElementTree()`, para isso vamos passar **'tree'** como argumento para o construtor"
   ]
  },
  {
   "cell_type": "code",
   "execution_count": 361,
   "metadata": {},
   "outputs": [],
   "source": [
    "root = et.ElementTree(tree)"
   ]
  },
  {
   "cell_type": "markdown",
   "metadata": {},
   "source": [
    "Observe que agora temos o método `write()` disponível"
   ]
  },
  {
   "cell_type": "code",
   "execution_count": 362,
   "metadata": {},
   "outputs": [
    {
     "name": "stdout",
     "output_type": "stream",
     "text": [
      "['__class__', '__delattr__', '__dict__', '__dir__', '__doc__', '__eq__', '__format__', '__ge__', '__getattribute__', '__gt__', '__hash__', '__init__', '__init_subclass__', '__le__', '__lt__', '__module__', '__ne__', '__new__', '__reduce__', '__reduce_ex__', '__repr__', '__setattr__', '__sizeof__', '__str__', '__subclasshook__', '__weakref__', '_root', '_setroot', 'find', 'findall', 'findtext', 'getiterator', 'getroot', 'iter', 'iterfind', 'parse', 'write', 'write_c14n']\n"
     ]
    }
   ],
   "source": [
    "print(dir(root))"
   ]
  },
  {
   "cell_type": "markdown",
   "metadata": {},
   "source": [
    "Salvando os dados em um arquivo de nome `novos_livros.xml`"
   ]
  },
  {
   "cell_type": "code",
   "execution_count": 363,
   "metadata": {},
   "outputs": [],
   "source": [
    "root.write('novos_livros.xml', encoding=\"utf-8\")"
   ]
  },
  {
   "cell_type": "markdown",
   "metadata": {},
   "source": [
    "Perceba que o novo arquivo que salvamos não está no formato que desejamos\n",
    "\n",
    "Podemos solucionar este problema com o método `prettify()` da biblioteca **Beautiful Soup**"
   ]
  },
  {
   "cell_type": "code",
   "execution_count": 364,
   "metadata": {},
   "outputs": [
    {
     "name": "stdout",
     "output_type": "stream",
     "text": [
      "<?xml version=\"1.0\" encoding=\"utf-8\"?>\n",
      "<biblioteca>\n",
      " <livro categoria=\"Cyber Punk\">\n",
      "  <titulo lang=\"en\">\n",
      "   Neuromancer\n",
      "  </titulo>\n",
      "  <autor>\n",
      "   William Gibson\n",
      "  </autor>\n",
      "  <ano>\n",
      "   1984\n",
      "  </ano>\n",
      " </livro>\n",
      " <livro categoria=\"Distopia\">\n",
      "  <titulo lang=\"en\">\n",
      "   Nineteen Eighty-Four: A Novel\n",
      "  </titulo>\n",
      "  <autor>\n",
      "   George Orwell\n",
      "  </autor>\n",
      "  <ano>\n",
      "   1949\n",
      "  </ano>\n",
      " </livro>\n",
      " <livro categoria=\"Ciência da Computação\">\n",
      "  <titulo lang=\"en\">\n",
      "   How to Think Like a Computer Scientist\n",
      "  </titulo>\n",
      "  <autor>\n",
      "   Peter Wentworth, Jeffrey Elkner, Allen B. Downey, and Chris Meyers\n",
      "  </autor>\n",
      "  <ano>\n",
      "   2012\n",
      "  </ano>\n",
      " </livro>\n",
      " <livro categoria=\"Programação\">\n",
      "  <titulo lang=\"en\">\n",
      "   Making Games with Python and Pygame\n",
      "  </titulo>\n",
      "  <autor>\n",
      "   AI Sweigart\n",
      "  </autor>\n",
      "  <ano>\n",
      "   2012\n",
      "  </ano>\n",
      " </livro>\n",
      " <livro categoria=\"Dystopia\">\n",
      "  <titulo>\n",
      "   Brave New World\n",
      "  </titulo>\n",
      "  <autor>\n",
      "   Aldous Huxley\n",
      "  </autor>\n",
      "  <ano>\n",
      "   1931\n",
      "  </ano>\n",
      " </livro>\n",
      "</biblioteca>\n"
     ]
    }
   ],
   "source": [
    "with open('novos_livros.xml', 'r') as file:\n",
    "    f = file.read()\n",
    "\n",
    "soup = BeautifulSoup(f, \"xml\")\n",
    "prettify = soup.prettify()\n",
    "print(prettify)"
   ]
  },
  {
   "cell_type": "markdown",
   "metadata": {},
   "source": [
    "Podemos também usar o método `toprettyxml()` da biblioteca **xml**"
   ]
  },
  {
   "cell_type": "code",
   "execution_count": 365,
   "metadata": {},
   "outputs": [
    {
     "name": "stdout",
     "output_type": "stream",
     "text": [
      "<?xml version=\"1.0\" ?>\n",
      "<biblioteca>\n",
      "    <livro categoria=\"Cyber Punk\">\n",
      "        <titulo lang=\"en\">Neuromancer</titulo>\n",
      "        <autor>William Gibson</autor>\n",
      "        <ano>1984</ano>\n",
      "    </livro>\n",
      "    <livro categoria=\"Distopia\">\n",
      "        <titulo lang=\"en\">Nineteen Eighty-Four: A Novel</titulo>\n",
      "        <autor>George Orwell</autor>\n",
      "        <ano>1949</ano>\n",
      "    </livro>\n",
      "    <livro categoria=\"Ciência da Computação\">\n",
      "        <titulo lang=\"en\">How to Think Like a Computer Scientist</titulo>\n",
      "        <autor>Peter Wentworth, Jeffrey Elkner, Allen B. Downey, and Chris Meyers</autor>\n",
      "        <ano>2012</ano>\n",
      "    </livro>\n",
      "    <livro categoria=\"Programação\">\n",
      "        <titulo lang=\"en\">Making Games with Python and Pygame</titulo>\n",
      "        <autor>AI Sweigart</autor>\n",
      "        <ano>2012</ano>\n",
      "    </livro>\n",
      "    <livro categoria=\"Dystopia\">\n",
      "        <titulo>Brave New World</titulo>\n",
      "        <autor>Aldous Huxley</autor>\n",
      "        <ano>1931</ano>\n",
      "    </livro>\n",
      "</biblioteca>\n"
     ]
    }
   ],
   "source": [
    "import xml.dom.minidom\n",
    "\n",
    "with open('novos_livros.xml', 'r') as file:\n",
    "    f = file.read()\n",
    "    pp = lambda data: '\\n'.join([line for line in xml.dom.minidom.parseString(f).toprettyxml(indent=' '*4).split('\\n') if line.strip()])\n",
    "    print(pp(f))"
   ]
  },
  {
   "cell_type": "markdown",
   "metadata": {},
   "source": [
    "E agora finalmente salvamos a versão final de nosso arquivo"
   ]
  },
  {
   "cell_type": "code",
   "execution_count": 366,
   "metadata": {},
   "outputs": [],
   "source": [
    "with open('novos_livros.xml', 'w') as file:\n",
    "    file.write(pp(f))"
   ]
  }
 ],
 "metadata": {
  "kernelspec": {
   "display_name": "Python 3",
   "language": "python",
   "name": "python3"
  },
  "language_info": {
   "codemirror_mode": {
    "name": "ipython",
    "version": 3
   },
   "file_extension": ".py",
   "mimetype": "text/x-python",
   "name": "python",
   "nbconvert_exporter": "python",
   "pygments_lexer": "ipython3",
   "version": "3.7.7"
  }
 },
 "nbformat": 4,
 "nbformat_minor": 4
}
