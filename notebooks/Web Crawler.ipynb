{
 "cells": [
  {
   "cell_type": "markdown",
   "metadata": {},
   "source": [
    "# Web Crawler\n",
    "\n",
    "Nosso Web Crawler irá navegar pelas páginas do website **http://quotes.toscrape.com**\n",
    "\n",
    "Esta aplicação foi desenvolvida especificamente para praticarmos nossos conhecimentos sobre **Web Scraping** e nos servirá de grande auxílio.\n",
    "\n",
    "Para a construção de nosso Crawler vamos utilizar as bibliotecas **[Requests](https://requests.kennethreitz.org/en/master/)** e **[Beautiful Soup](https://www.crummy.com/software/BeautifulSoup/bs4/doc/)**\n",
    "\n",
    "Iniciaremos importando as bibliotecas necessárias"
   ]
  },
  {
   "cell_type": "code",
   "execution_count": 1,
   "metadata": {},
   "outputs": [],
   "source": [
    "from bs4 import BeautifulSoup\n",
    "import requests"
   ]
  },
  {
   "cell_type": "markdown",
   "metadata": {},
   "source": [
    "Vamos definir uma função chamada **spider()** ao qual:\n",
    "\n",
    "- Navegará pelo número de páginas máximo especificado por nós via argumento\n",
    "- Para cada página, vamos extrair o código HTML\n",
    "- Através do nosso objeto soup buscaremos elementos:\n",
    "    - Representando o autor do quote\n",
    "    - Representando o texto do quote\n",
    "- Por fim incrementamos nossa variável page até alcançarmos o limite máximo de páginas"
   ]
  },
  {
   "cell_type": "code",
   "execution_count": 2,
   "metadata": {},
   "outputs": [],
   "source": [
    "def spider(max_pages):\n",
    "    page = 1\n",
    "    while page < (max_pages + 1):\n",
    "        url = f'http://quotes.toscrape.com/page/{str(page)}/'\n",
    "        source_code = requests.get(url)\n",
    "        plain_text = source_code.text\n",
    "        soup = BeautifulSoup(plain_text, 'lxml')\n",
    "        for autor in soup.find_all('small', class_='author'):\n",
    "            print(autor.text)\n",
    "        for quote in soup.find_all('span', class_='text'):\n",
    "            print(quote.text)\n",
    "        page += 1"
   ]
  },
  {
   "cell_type": "markdown",
   "metadata": {},
   "source": [
    "Executamos nossa função passando como argumento o valor **2** \n",
    "\n",
    "- O spider irá navegar pelas páginas **http://quotes.toscrape.com/page/1/** e **http://quotes.toscrape.com/page/2/**\n",
    "- Serão extraídos todos os quotes e seus respectivos autores das páginas que navegamos"
   ]
  },
  {
   "cell_type": "code",
   "execution_count": 3,
   "metadata": {},
   "outputs": [
    {
     "name": "stdout",
     "output_type": "stream",
     "text": [
      "Albert Einstein\n",
      "J.K. Rowling\n",
      "Albert Einstein\n",
      "Jane Austen\n",
      "Marilyn Monroe\n",
      "Albert Einstein\n",
      "André Gide\n",
      "Thomas A. Edison\n",
      "Eleanor Roosevelt\n",
      "Steve Martin\n",
      "“The world as we have created it is a process of our thinking. It cannot be changed without changing our thinking.”\n",
      "“It is our choices, Harry, that show what we truly are, far more than our abilities.”\n",
      "“There are only two ways to live your life. One is as though nothing is a miracle. The other is as though everything is a miracle.”\n",
      "“The person, be it gentleman or lady, who has not pleasure in a good novel, must be intolerably stupid.”\n",
      "“Imperfection is beauty, madness is genius and it's better to be absolutely ridiculous than absolutely boring.”\n",
      "“Try not to become a man of success. Rather become a man of value.”\n",
      "“It is better to be hated for what you are than to be loved for what you are not.”\n",
      "“I have not failed. I've just found 10,000 ways that won't work.”\n",
      "“A woman is like a tea bag; you never know how strong it is until it's in hot water.”\n",
      "“A day without sunshine is like, you know, night.”\n",
      "Marilyn Monroe\n",
      "J.K. Rowling\n",
      "Albert Einstein\n",
      "Bob Marley\n",
      "Dr. Seuss\n",
      "Douglas Adams\n",
      "Elie Wiesel\n",
      "Friedrich Nietzsche\n",
      "Mark Twain\n",
      "Allen Saunders\n",
      "“This life is what you make it. No matter what, you're going to mess up sometimes, it's a universal truth. But the good part is you get to decide how you're going to mess it up. Girls will be your friends - they'll act like it anyway. But just remember, some come, some go. The ones that stay with you through everything - they're your true best friends. Don't let go of them. Also remember, sisters make the best friends in the world. As for lovers, well, they'll come and go too. And baby, I hate to say it, most of them - actually pretty much all of them are going to break your heart, but you can't give up because if you give up, you'll never find your soulmate. You'll never find that half who makes you whole and that goes for everything. Just because you fail once, doesn't mean you're gonna fail at everything. Keep trying, hold on, and always, always, always believe in yourself, because if you don't, then who will, sweetie? So keep your head high, keep your chin up, and most importantly, keep smiling, because life's a beautiful thing and there's so much to smile about.”\n",
      "“It takes a great deal of bravery to stand up to our enemies, but just as much to stand up to our friends.”\n",
      "“If you can't explain it to a six year old, you don't understand it yourself.”\n",
      "“You may not be her first, her last, or her only. She loved before she may love again. But if she loves you now, what else matters? She's not perfect—you aren't either, and the two of you may never be perfect together but if she can make you laugh, cause you to think twice, and admit to being human and making mistakes, hold onto her and give her the most you can. She may not be thinking about you every second of the day, but she will give you a part of her that she knows you can break—her heart. So don't hurt her, don't change her, don't analyze and don't expect more than she can give. Smile when she makes you happy, let her know when she makes you mad, and miss her when she's not there.”\n",
      "“I like nonsense, it wakes up the brain cells. Fantasy is a necessary ingredient in living.”\n",
      "“I may not have gone where I intended to go, but I think I have ended up where I needed to be.”\n",
      "“The opposite of love is not hate, it's indifference. The opposite of art is not ugliness, it's indifference. The opposite of faith is not heresy, it's indifference. And the opposite of life is not death, it's indifference.”\n",
      "“It is not a lack of love, but a lack of friendship that makes unhappy marriages.”\n",
      "“Good friends, good books, and a sleepy conscience: this is the ideal life.”\n",
      "“Life is what happens to us while we are making other plans.”\n"
     ]
    }
   ],
   "source": [
    "spider(2)"
   ]
  },
  {
   "cell_type": "markdown",
   "metadata": {},
   "source": [
    "### Aperfeiçoando nosso Web Crawler\n",
    "\n",
    "Acredito que se transformarmos nossa função **spider()** em uma função geradora, podemos guardar nossos dados em um dicionário onde o **nome do autor** representará a **chave** e o **quote** representará o **valor**.\n",
    "\n",
    "Para isso, vamos criar duas listas, uma para guardarmos os **autores** e outra para guardarmos os **quotes**.\n",
    "\n",
    "Por fim, utilizamos a palavra-chave **yield** de forma a modificarmos nossa função para que ela se torne um gerador, nos retornando um dicionário com nossos dados mapeados como **chave-valor** através da função **zip()**.\n",
    "\n",
    "**Importante**: Dicionários aceitam apenas chaves únicas, sendo assim, teremos apenas um Quote de cada Autor"
   ]
  },
  {
   "cell_type": "code",
   "execution_count": 12,
   "metadata": {},
   "outputs": [],
   "source": [
    "def spider(max_pages):\n",
    "    page = 1\n",
    "    autores = []\n",
    "    quotes = []\n",
    "    while page < (max_pages + 1):\n",
    "        url = f'http://quotes.toscrape.com/page/{str(page)}/'\n",
    "        source_code = requests.get(url)\n",
    "        plain_text = source_code.text\n",
    "        soup = BeautifulSoup(plain_text, 'lxml')\n",
    "        for autor in soup.find_all('small', class_='author'):\n",
    "            autores.append(autor.text)\n",
    "        for quote in soup.find_all('span', class_='text'):\n",
    "            quotes.append(quote.text)\n",
    "        page += 1\n",
    "    yield dict(zip(autores, quotes))"
   ]
  },
  {
   "cell_type": "markdown",
   "metadata": {},
   "source": [
    "Obtendo o objeto gerador"
   ]
  },
  {
   "cell_type": "code",
   "execution_count": 13,
   "metadata": {},
   "outputs": [
    {
     "name": "stdout",
     "output_type": "stream",
     "text": [
      "<generator object spider at 0x7fe66c37c150>\n"
     ]
    }
   ],
   "source": [
    "crawler = spider(7)\n",
    "print(crawler)"
   ]
  },
  {
   "cell_type": "markdown",
   "metadata": {},
   "source": [
    "Através do **for loop**, podemos percorrer os valores de nosso gerador"
   ]
  },
  {
   "cell_type": "code",
   "execution_count": 14,
   "metadata": {},
   "outputs": [
    {
     "name": "stdout",
     "output_type": "stream",
     "text": [
      "{'Albert Einstein': '“If I were not a physicist, I would probably be a musician. I often think in music. I live my daydreams in music. I see my life in terms of music.”', 'J.K. Rowling': '“Do not pity the dead, Harry. Pity the living, and, above all those who live without love.”', 'Jane Austen': '“There is nothing I would not do for those who are really my friends. I have no notion of loving people by halves, it is not my nature.”', 'Marilyn Monroe': '“I am good, but not an angel. I do sin, but I am not the devil. I am just a small girl in a big world trying to find someone to love.”', 'André Gide': '“It is better to be hated for what you are than to be loved for what you are not.”', 'Thomas A. Edison': \"“I have not failed. I've just found 10,000 ways that won't work.”\", 'Eleanor Roosevelt': '“Do one thing every day that scares you.”', 'Steve Martin': '“A day without sunshine is like, you know, night.”', 'Bob Marley': '“The truth is, everyone is going to hurt you. You just got to find the ones worth suffering for.”', 'Dr. Seuss': \"“I have heard there are troubles of more than one kind. Some come from ahead and some come from behind. But I've bought a big bat. I'm all ready you see. Now my troubles are going to have troubles with me!”\", 'Douglas Adams': '“I may not have gone where I intended to go, but I think I have ended up where I needed to be.”', 'Elie Wiesel': \"“The opposite of love is not hate, it's indifference. The opposite of art is not ugliness, it's indifference. The opposite of faith is not heresy, it's indifference. And the opposite of life is not death, it's indifference.”\", 'Friedrich Nietzsche': '“It is not a lack of love, but a lack of friendship that makes unhappy marriages.”', 'Mark Twain': '“I have never let my schooling interfere with my education.”', 'Allen Saunders': '“Life is what happens to us while we are making other plans.”', 'Pablo Neruda': '“I love you without knowing how, or when, or from where. I love you simply, without problems or pride: I love you in this way because I do not know any other way of loving but this, in which there is no I or you, so intimate that your hand upon my chest is my hand, so intimate that when I fall asleep your eyes close.”', 'Ralph Waldo Emerson': '“Finish each day and be done with it. You have done what you could. Some blunders and absurdities no doubt crept in; forget them as soon as you can. Tomorrow is a new day. You shall begin it serenely and with too high a spirit to be encumbered with your old nonsense.”', 'Mother Teresa': '“Not all of us can do great things. But we can do small things with great love.”', 'Garrison Keillor': '“Anyone who thinks sitting in church can make you a Christian must also think that sitting in a garage can make you a car.”', 'Jim Henson': '“Beauty is in the eye of the beholder and it may be necessary from time to time to give a stupid or misinformed beholder a black eye.”', 'Charles M. Schulz': \"“All you need is love. But a little chocolate now and then doesn't hurt.”\", 'William Nicholson': \"“We read to know we're not alone.”\", 'Jorge Luis Borges': '“I have always imagined that Paradise will be a kind of library.”', 'George Eliot': '“It is never too late to be what you might have been.”', 'George R.R. Martin': '“A reader lives a thousand lives before he dies, said Jojen. The man who never reads lives only one.”', 'C.S. Lewis': '“To love at all is to be vulnerable. Love anything and your heart will be wrung and possibly broken. If you want to make sure of keeping it intact you must give it to no one, not even an animal. Wrap it carefully round with hobbies and little luxuries; avoid all entanglements. Lock it up safe in the casket or coffin of your selfishness. But in that casket, safe, dark, motionless, airless, it will change. It will not be broken; it will become unbreakable, impenetrable, irredeemable. To love is to be vulnerable.”', 'Martin Luther King Jr.': '“Only in the darkness can you see the stars.”', 'James Baldwin': '“Love does not begin and end the way we seem to think it does. Love is a battle, love is a war; love is a growing up.”', 'Haruki Murakami': '“If you only read the books that everyone else is reading, you can only think what everyone else is thinking.”', 'Alexandre Dumas fils': '“The difference between genius and stupidity is: genius has its limits.”', 'Stephenie Meyer': \"“He's like a drug for you, Bella.”\", 'Ernest Hemingway': '“There is nothing to writing. All you do is sit down at a typewriter and bleed.”', 'Helen Keller': '“When one door of happiness closes, another opens; but often we look so long at the closed door that we do not see the one which has been opened for us.”', 'George Bernard Shaw': \"“Life isn't about finding yourself. Life is about creating yourself.”\", 'Charles Bukowski': \"“That's the problem with drinking, I thought, as I poured myself a drink. If something bad happens you drink in an attempt to forget; if something good happens you drink in order to celebrate; and if nothing happens you drink to make something happen.”\", 'Suzanne Collins': \"“Remember, we're madly in love, so it's all right to kiss me anytime you feel like it.”\", 'J.R.R. Tolkien': '“Not all those who wander are lost.”'}\n"
     ]
    }
   ],
   "source": [
    "for c in crawler:\n",
    "    print(c)"
   ]
  },
  {
   "cell_type": "markdown",
   "metadata": {},
   "source": [
    "### Buscando Quote por Autor"
   ]
  },
  {
   "cell_type": "code",
   "execution_count": 15,
   "metadata": {},
   "outputs": [
    {
     "name": "stdout",
     "output_type": "stream",
     "text": [
      "“Try not to become a man of success. Rather become a man of value.”\n"
     ]
    }
   ],
   "source": [
    "crawler = spider(1)\n",
    "\n",
    "for c in crawler:\n",
    "    print(c['Albert Einstein'])"
   ]
  },
  {
   "cell_type": "markdown",
   "metadata": {},
   "source": [
    "### Convertendo nossos resultados para JSON\n",
    "\n",
    "Para isso será necessário fazermos o import da biblioteca **json** que já vem acoplada na linguagem Python por padrão\n",
    "\n",
    "Novamente vamos então obter o objeto gerador"
   ]
  },
  {
   "cell_type": "code",
   "execution_count": 16,
   "metadata": {},
   "outputs": [],
   "source": [
    "crawler = spider(3)"
   ]
  },
  {
   "cell_type": "markdown",
   "metadata": {},
   "source": [
    "Agora vamos percorrer os valores de nosso gerador com o **for loop** e imprimir os respectivos dados no formato JSON"
   ]
  },
  {
   "cell_type": "code",
   "execution_count": 17,
   "metadata": {},
   "outputs": [
    {
     "name": "stdout",
     "output_type": "stream",
     "text": [
      "{\n",
      "    \"Albert Einstein\": \"“Logic will get you from A to Z; imagination will get you everywhere.”\",\n",
      "    \"Allen Saunders\": \"“Life is what happens to us while we are making other plans.”\",\n",
      "    \"André Gide\": \"“It is better to be hated for what you are than to be loved for what you are not.”\",\n",
      "    \"Bob Marley\": \"“One good thing about music, when it hits you, you feel no pain.”\",\n",
      "    \"Douglas Adams\": \"“I may not have gone where I intended to go, but I think I have ended up where I needed to be.”\",\n",
      "    \"Dr. Seuss\": \"“Today you are You, that is truer than true. There is no one alive who is Youer than You.”\",\n",
      "    \"Eleanor Roosevelt\": \"“A woman is like a tea bag; you never know how strong it is until it's in hot water.”\",\n",
      "    \"Elie Wiesel\": \"“The opposite of love is not hate, it's indifference. The opposite of art is not ugliness, it's indifference. The opposite of faith is not heresy, it's indifference. And the opposite of life is not death, it's indifference.”\",\n",
      "    \"Friedrich Nietzsche\": \"“It is not a lack of love, but a lack of friendship that makes unhappy marriages.”\",\n",
      "    \"Garrison Keillor\": \"“Anyone who thinks sitting in church can make you a Christian must also think that sitting in a garage can make you a car.”\",\n",
      "    \"J.K. Rowling\": \"“It is impossible to live without failing at something, unless you live so cautiously that you might as well not have lived at all - in which case, you fail by default.”\",\n",
      "    \"Jane Austen\": \"“The person, be it gentleman or lady, who has not pleasure in a good novel, must be intolerably stupid.”\",\n",
      "    \"Jim Henson\": \"“Beauty is in the eye of the beholder and it may be necessary from time to time to give a stupid or misinformed beholder a black eye.”\",\n",
      "    \"Marilyn Monroe\": \"“This life is what you make it. No matter what, you're going to mess up sometimes, it's a universal truth. But the good part is you get to decide how you're going to mess it up. Girls will be your friends - they'll act like it anyway. But just remember, some come, some go. The ones that stay with you through everything - they're your true best friends. Don't let go of them. Also remember, sisters make the best friends in the world. As for lovers, well, they'll come and go too. And baby, I hate to say it, most of them - actually pretty much all of them are going to break your heart, but you can't give up because if you give up, you'll never find your soulmate. You'll never find that half who makes you whole and that goes for everything. Just because you fail once, doesn't mean you're gonna fail at everything. Keep trying, hold on, and always, always, always believe in yourself, because if you don't, then who will, sweetie? So keep your head high, keep your chin up, and most importantly, keep smiling, because life's a beautiful thing and there's so much to smile about.”\",\n",
      "    \"Mark Twain\": \"“Good friends, good books, and a sleepy conscience: this is the ideal life.”\",\n",
      "    \"Mother Teresa\": \"“If you judge people, you have no time to love them.”\",\n",
      "    \"Pablo Neruda\": \"“I love you without knowing how, or when, or from where. I love you simply, without problems or pride: I love you in this way because I do not know any other way of loving but this, in which there is no I or you, so intimate that your hand upon my chest is my hand, so intimate that when I fall asleep your eyes close.”\",\n",
      "    \"Ralph Waldo Emerson\": \"“For every minute you are angry you lose sixty seconds of happiness.”\",\n",
      "    \"Steve Martin\": \"“A day without sunshine is like, you know, night.”\",\n",
      "    \"Thomas A. Edison\": \"“I have not failed. I've just found 10,000 ways that won't work.”\"\n",
      "}\n"
     ]
    }
   ],
   "source": [
    "import json\n",
    "\n",
    "for c in crawler:\n",
    "    print(json.dumps(c, sort_keys=True, indent=4, ensure_ascii=False))"
   ]
  }
 ],
 "metadata": {
  "kernelspec": {
   "display_name": "Python 3",
   "language": "python",
   "name": "python3"
  },
  "language_info": {
   "codemirror_mode": {
    "name": "ipython",
    "version": 3
   },
   "file_extension": ".py",
   "mimetype": "text/x-python",
   "name": "python",
   "nbconvert_exporter": "python",
   "pygments_lexer": "ipython3",
   "version": "3.7.7"
  }
 },
 "nbformat": 4,
 "nbformat_minor": 4
}
