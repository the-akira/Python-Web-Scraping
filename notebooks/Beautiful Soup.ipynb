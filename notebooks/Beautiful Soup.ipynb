{
 "cells": [
  {
   "cell_type": "markdown",
   "metadata": {},
   "source": [
    "# Experimentos com Beautiful Soup\n",
    "\n",
    "**[Beautiful Soup](https://www.crummy.com/software/BeautifulSoup/bs4/doc/)** é uma biblioteca Python para extrair dados de arquivos HTML e XML.\n",
    "\n",
    "Iniciamos importando bibliotecas necessárias para nossos experimentos"
   ]
  },
  {
   "cell_type": "code",
   "execution_count": 1,
   "metadata": {},
   "outputs": [],
   "source": [
    "from bs4 import BeautifulSoup\n",
    "import requests "
   ]
  },
  {
   "cell_type": "markdown",
   "metadata": {},
   "source": [
    "Vamos obter o objeto `requests.models.Response` que irá nos trazer o conteúdo HTML que precisamos"
   ]
  },
  {
   "cell_type": "code",
   "execution_count": 3,
   "metadata": {},
   "outputs": [],
   "source": [
    "r = requests.get('https://pythonwebscraping.netlify.app')"
   ]
  },
  {
   "cell_type": "markdown",
   "metadata": {},
   "source": [
    "Guardamos então o conteúdo da página em uma variável"
   ]
  },
  {
   "cell_type": "code",
   "execution_count": 4,
   "metadata": {},
   "outputs": [],
   "source": [
    "html = r.text"
   ]
  },
  {
   "cell_type": "markdown",
   "metadata": {},
   "source": [
    "#### Iniciando a extração de dados\n",
    "\n",
    "- Através do construtor `BeautifulSoup()` inicializamos nosso objeto `bs4.BeautifulSoup`\n",
    "- Ele representa o documento como um todo\n",
    "- Com ele ganharemos acesso a diversos atributos e métodos interessantes para acessarmos os elementos da página em questão"
   ]
  },
  {
   "cell_type": "code",
   "execution_count": 5,
   "metadata": {},
   "outputs": [
    {
     "name": "stdout",
     "output_type": "stream",
     "text": [
      "<!DOCTYPE html>\n",
      "\n",
      "<html>\n",
      "<head>\n",
      "<meta charset=\"utf-8\"/>\n",
      "<title>Web Scraping Tutorial com Python</title>\n",
      "<link href=\"https://i.imgur.com/QOVnf5D.png\" rel=\"icon\"/>\n",
      "<style>\n",
      "\t.python {\n",
      "\t\tcolor: purple;\n",
      "\t}\n",
      "\t#titulo {\n",
      "\t\ttext-transform: uppercase;\n",
      "\t}\n",
      "\ttable {\n",
      "\t  border-collapse: collapse;\n",
      "\t}\n",
      "\n",
      "\ttable, th, td {\n",
      "\t  border: 1px solid black;\n",
      "\t  padding: 3px;\n",
      "\t}\n",
      "\t</style>\n",
      "</head>\n",
      "<body>\n",
      "<h1>Web Scraping</h1>\n",
      "<h2>Estrutura Básica HTML</h2>\n",
      "<img src=\"https://www.crummy.com/software/BeautifulSoup/bs4/doc/_images/6.1.jpg\"/>\n",
      "<p>Aprendendo Web Scraping com <a href=\"https://www.python.org/\">Python</a>,\n",
      "\t<a href=\"https://github.com/psf/requests-html\">Requests-HTML</a>,\n",
      "\t<a href=\"https://www.crummy.com/software/BeautifulSoup/bs4/doc/\">Beautiful Soup</a> e\n",
      "\t<a href=\"https://scrapy.org/\">Scrapy</a>\n",
      "</p>\n",
      "<p>“Logic will get you from A to Z; imagination will get you everywhere.” <b>Albert Einstein</b></p>\n",
      "<h3 id=\"titulo\">Linguagens de Programação</h3>\n",
      "<ul>\n",
      "<li class=\"python\">Python</li>\n",
      "<li>Perl</li>\n",
      "<li>PHP</li>\n",
      "</ul>\n",
      "<h3 id=\"titulo\">Grandes Matemáticos</h3>\n",
      "<table>\n",
      "<tr>\n",
      "<th>Nome</th>\n",
      "<th>Sobrenome</th>\n",
      "<th>Email</th>\n",
      "</tr>\n",
      "<tr>\n",
      "<td>Alan</td>\n",
      "<td>Turing</td>\n",
      "<td>alan@turing.com</td>\n",
      "</tr>\n",
      "<tr>\n",
      "<td>John</td>\n",
      "<td>von Neumann</td>\n",
      "<td>john@voneumann.com</td>\n",
      "</tr>\n",
      "<tr>\n",
      "<td>Blaise</td>\n",
      "<td>Pascal</td>\n",
      "<td>blaise@pascal.com</td>\n",
      "</tr>\n",
      "</table>\n",
      "</body>\n",
      "</html>\n",
      "\n"
     ]
    }
   ],
   "source": [
    "soup = BeautifulSoup(html, 'html.parser')\n",
    "print(soup)"
   ]
  },
  {
   "cell_type": "markdown",
   "metadata": {},
   "source": [
    "Podemos usar o método `prettify()` para imprimir o conteúdo de nosso documento de uma forma legível"
   ]
  },
  {
   "cell_type": "code",
   "execution_count": 6,
   "metadata": {},
   "outputs": [
    {
     "data": {
      "text/plain": [
       "'<!DOCTYPE html>\\n<html>\\n <head>\\n  <meta charset=\"utf-8\"/>\\n  <title>\\n   Web Scraping Tutorial com Python\\n  </title>\\n  <link href=\"https://i.imgur.com/QOVnf5D.png\" rel=\"icon\"/>\\n  <style>\\n   .python {\\n\\t\\tcolor: purple;\\n\\t}\\n\\t#titulo {\\n\\t\\ttext-transform: uppercase;\\n\\t}\\n\\ttable {\\n\\t  border-collapse: collapse;\\n\\t}\\n\\n\\ttable, th, td {\\n\\t  border: 1px solid black;\\n\\t  padding: 3px;\\n\\t}\\n  </style>\\n </head>\\n <body>\\n  <h1>\\n   Web Scraping\\n  </h1>\\n  <h2>\\n   Estrutura Básica HTML\\n  </h2>\\n  <img src=\"https://www.crummy.com/software/BeautifulSoup/bs4/doc/_images/6.1.jpg\"/>\\n  <p>\\n   Aprendendo Web Scraping com\\n   <a href=\"https://www.python.org/\">\\n    Python\\n   </a>\\n   ,\\n   <a href=\"https://github.com/psf/requests-html\">\\n    Requests-HTML\\n   </a>\\n   ,\\n   <a href=\"https://www.crummy.com/software/BeautifulSoup/bs4/doc/\">\\n    Beautiful Soup\\n   </a>\\n   e\\n   <a href=\"https://scrapy.org/\">\\n    Scrapy\\n   </a>\\n  </p>\\n  <p>\\n   “Logic will get you from A to Z; imagination will get you everywhere.”\\n   <b>\\n    Albert Einstein\\n   </b>\\n  </p>\\n  <h3 id=\"titulo\">\\n   Linguagens de Programação\\n  </h3>\\n  <ul>\\n   <li class=\"python\">\\n    Python\\n   </li>\\n   <li>\\n    Perl\\n   </li>\\n   <li>\\n    PHP\\n   </li>\\n  </ul>\\n  <h3 id=\"titulo\">\\n   Grandes Matemáticos\\n  </h3>\\n  <table>\\n   <tr>\\n    <th>\\n     Nome\\n    </th>\\n    <th>\\n     Sobrenome\\n    </th>\\n    <th>\\n     Email\\n    </th>\\n   </tr>\\n   <tr>\\n    <td>\\n     Alan\\n    </td>\\n    <td>\\n     Turing\\n    </td>\\n    <td>\\n     alan@turing.com\\n    </td>\\n   </tr>\\n   <tr>\\n    <td>\\n     John\\n    </td>\\n    <td>\\n     von Neumann\\n    </td>\\n    <td>\\n     john@voneumann.com\\n    </td>\\n   </tr>\\n   <tr>\\n    <td>\\n     Blaise\\n    </td>\\n    <td>\\n     Pascal\\n    </td>\\n    <td>\\n     blaise@pascal.com\\n    </td>\\n   </tr>\\n  </table>\\n </body>\\n</html>\\n'"
      ]
     },
     "execution_count": 6,
     "metadata": {},
     "output_type": "execute_result"
    }
   ],
   "source": [
    "soup.prettify()"
   ]
  },
  {
   "cell_type": "markdown",
   "metadata": {},
   "source": [
    "O atributo **title** nos traz o elemento `<title>` da página"
   ]
  },
  {
   "cell_type": "code",
   "execution_count": 7,
   "metadata": {},
   "outputs": [
    {
     "data": {
      "text/plain": [
       "<title>Web Scraping Tutorial com Python</title>"
      ]
     },
     "execution_count": 7,
     "metadata": {},
     "output_type": "execute_result"
    }
   ],
   "source": [
    "soup.title"
   ]
  },
  {
   "cell_type": "markdown",
   "metadata": {},
   "source": [
    "O atributo **title.name** nos traz o nome do elemento `<title>` da página"
   ]
  },
  {
   "cell_type": "code",
   "execution_count": 8,
   "metadata": {},
   "outputs": [
    {
     "data": {
      "text/plain": [
       "'title'"
      ]
     },
     "execution_count": 8,
     "metadata": {},
     "output_type": "execute_result"
    }
   ],
   "source": [
    "soup.title.name"
   ]
  },
  {
   "cell_type": "markdown",
   "metadata": {},
   "source": [
    "O atributo **title.string** nos traz o conteúdo do elemento `<title>` da página"
   ]
  },
  {
   "cell_type": "code",
   "execution_count": 9,
   "metadata": {},
   "outputs": [
    {
     "data": {
      "text/plain": [
       "'Web Scraping Tutorial com Python'"
      ]
     },
     "execution_count": 9,
     "metadata": {},
     "output_type": "execute_result"
    }
   ],
   "source": [
    "soup.title.string"
   ]
  },
  {
   "cell_type": "markdown",
   "metadata": {},
   "source": [
    "O atributo **title.parent.name** traz o nome do elemento pai do elemento `<title>`, neste caso `<head>`"
   ]
  },
  {
   "cell_type": "code",
   "execution_count": 10,
   "metadata": {},
   "outputs": [
    {
     "data": {
      "text/plain": [
       "'head'"
      ]
     },
     "execution_count": 10,
     "metadata": {},
     "output_type": "execute_result"
    }
   ],
   "source": [
    "soup.title.parent.name"
   ]
  },
  {
   "cell_type": "markdown",
   "metadata": {},
   "source": [
    "O atributo **p** traz o primeiro parágrafo (`<p>`) da página"
   ]
  },
  {
   "cell_type": "code",
   "execution_count": 11,
   "metadata": {},
   "outputs": [
    {
     "data": {
      "text/plain": [
       "<p>Aprendendo Web Scraping com <a href=\"https://www.python.org/\">Python</a>,\n",
       "\t<a href=\"https://github.com/psf/requests-html\">Requests-HTML</a>,\n",
       "\t<a href=\"https://www.crummy.com/software/BeautifulSoup/bs4/doc/\">Beautiful Soup</a> e\n",
       "\t<a href=\"https://scrapy.org/\">Scrapy</a>\n",
       "</p>"
      ]
     },
     "execution_count": 11,
     "metadata": {},
     "output_type": "execute_result"
    }
   ],
   "source": [
    "soup.p"
   ]
  },
  {
   "cell_type": "markdown",
   "metadata": {},
   "source": [
    "#### Buscando Elementos\n",
    "\n",
    "- O método `find_all()` é capaz de buscar elementos.\n",
    "- Passamos como argumento **'p'** e ele nos traz todos os parágrafos da página"
   ]
  },
  {
   "cell_type": "code",
   "execution_count": 12,
   "metadata": {},
   "outputs": [
    {
     "data": {
      "text/plain": [
       "[<p>Aprendendo Web Scraping com <a href=\"https://www.python.org/\">Python</a>,\n",
       " \t<a href=\"https://github.com/psf/requests-html\">Requests-HTML</a>,\n",
       " \t<a href=\"https://www.crummy.com/software/BeautifulSoup/bs4/doc/\">Beautiful Soup</a> e\n",
       " \t<a href=\"https://scrapy.org/\">Scrapy</a>\n",
       " </p>,\n",
       " <p>“Logic will get you from A to Z; imagination will get you everywhere.” <b>Albert Einstein</b></p>]"
      ]
     },
     "execution_count": 12,
     "metadata": {},
     "output_type": "execute_result"
    }
   ],
   "source": [
    "soup.find_all('p')"
   ]
  },
  {
   "cell_type": "markdown",
   "metadata": {},
   "source": [
    "Passamos como argumento **'a'** e ele nos retorna todos os links da página"
   ]
  },
  {
   "cell_type": "code",
   "execution_count": 13,
   "metadata": {},
   "outputs": [
    {
     "data": {
      "text/plain": [
       "[<a href=\"https://www.python.org/\">Python</a>,\n",
       " <a href=\"https://github.com/psf/requests-html\">Requests-HTML</a>,\n",
       " <a href=\"https://www.crummy.com/software/BeautifulSoup/bs4/doc/\">Beautiful Soup</a>,\n",
       " <a href=\"https://scrapy.org/\">Scrapy</a>]"
      ]
     },
     "execution_count": 13,
     "metadata": {},
     "output_type": "execute_result"
    }
   ],
   "source": [
    "soup.find_all('a')"
   ]
  },
  {
   "cell_type": "markdown",
   "metadata": {},
   "source": [
    "Ao passarmos **'li'** como argumento, nos serão trazidos todos itens de lista"
   ]
  },
  {
   "cell_type": "code",
   "execution_count": 14,
   "metadata": {},
   "outputs": [
    {
     "data": {
      "text/plain": [
       "[<li class=\"python\">Python</li>, <li>Perl</li>, <li>PHP</li>]"
      ]
     },
     "execution_count": 14,
     "metadata": {},
     "output_type": "execute_result"
    }
   ],
   "source": [
    "soup.find_all('li')"
   ]
  },
  {
   "cell_type": "markdown",
   "metadata": {},
   "source": [
    "Através de um **for loop** podemos percorrer a lista e extrair apenas o texto"
   ]
  },
  {
   "cell_type": "code",
   "execution_count": 65,
   "metadata": {},
   "outputs": [
    {
     "name": "stdout",
     "output_type": "stream",
     "text": [
      "Python\n",
      "Perl\n",
      "PHP\n"
     ]
    }
   ],
   "source": [
    "for l in soup.find_all('li'):\n",
    "    print(l.text)"
   ]
  },
  {
   "cell_type": "markdown",
   "metadata": {},
   "source": [
    "Também podemos buscar um elemento por sua **classe**"
   ]
  },
  {
   "cell_type": "code",
   "execution_count": 15,
   "metadata": {},
   "outputs": [
    {
     "data": {
      "text/plain": [
       "[<li class=\"python\">Python</li>]"
      ]
     },
     "execution_count": 15,
     "metadata": {},
     "output_type": "execute_result"
    }
   ],
   "source": [
    "soup.find_all('li', class_='python') "
   ]
  },
  {
   "cell_type": "markdown",
   "metadata": {},
   "source": [
    "Até mesmo podemos buscá-lo por seu **id**"
   ]
  },
  {
   "cell_type": "code",
   "execution_count": 16,
   "metadata": {},
   "outputs": [
    {
     "data": {
      "text/plain": [
       "<h3 id=\"titulo\">Linguagens de Programação</h3>"
      ]
     },
     "execution_count": 16,
     "metadata": {},
     "output_type": "execute_result"
    }
   ],
   "source": [
    "soup.find(id='titulo')"
   ]
  },
  {
   "cell_type": "markdown",
   "metadata": {},
   "source": [
    "É possível também selecionarmos um elemento específico"
   ]
  },
  {
   "cell_type": "code",
   "execution_count": 17,
   "metadata": {},
   "outputs": [
    {
     "data": {
      "text/plain": [
       "<h3 id=\"titulo\">Linguagens de Programação</h3>"
      ]
     },
     "execution_count": 17,
     "metadata": {},
     "output_type": "execute_result"
    }
   ],
   "source": [
    "soup.find(\"h3\", {\"id\": \"titulo\"})"
   ]
  },
  {
   "cell_type": "markdown",
   "metadata": {},
   "source": [
    "Podemos buscar o conteúdo src de um elemento `<img>`"
   ]
  },
  {
   "cell_type": "code",
   "execution_count": 18,
   "metadata": {},
   "outputs": [
    {
     "data": {
      "text/plain": [
       "'https://www.crummy.com/software/BeautifulSoup/bs4/doc/_images/6.1.jpg'"
      ]
     },
     "execution_count": 18,
     "metadata": {},
     "output_type": "execute_result"
    }
   ],
   "source": [
    "soup.find('img')['src']"
   ]
  },
  {
   "cell_type": "markdown",
   "metadata": {},
   "source": [
    "O método `get_text()` nos retorna uma string que representa a página"
   ]
  },
  {
   "cell_type": "code",
   "execution_count": 19,
   "metadata": {},
   "outputs": [
    {
     "data": {
      "text/plain": [
       "'\\n\\n\\n\\nWeb Scraping Tutorial com Python\\n\\n\\n\\n\\nWeb Scraping\\nEstrutura Básica HTML\\n\\nAprendendo Web Scraping com Python,\\n\\tRequests-HTML,\\n\\tBeautiful Soup e\\n\\tScrapy\\n\\n“Logic will get you from A to Z; imagination will get you everywhere.” Albert Einstein\\nLinguagens de Programação\\n\\nPython\\nPerl\\nPHP\\n\\nGrandes Matemáticos\\n\\n\\nNome\\nSobrenome\\nEmail\\n\\n\\nAlan\\nTuring\\nalan@turing.com\\n\\n\\nJohn\\nvon Neumann\\njohn@voneumann.com\\n\\n\\nBlaise\\nPascal\\nblaise@pascal.com\\n\\n\\n\\n\\n'"
      ]
     },
     "execution_count": 19,
     "metadata": {},
     "output_type": "execute_result"
    }
   ],
   "source": [
    "soup.get_text()"
   ]
  },
  {
   "cell_type": "markdown",
   "metadata": {},
   "source": [
    "Podemos utilizar um **for loop** para extrair apenas os links da página"
   ]
  },
  {
   "cell_type": "code",
   "execution_count": 70,
   "metadata": {},
   "outputs": [
    {
     "name": "stdout",
     "output_type": "stream",
     "text": [
      "https://www.python.org/\n",
      "https://github.com/psf/requests-html\n",
      "https://www.crummy.com/software/BeautifulSoup/bs4/doc/\n",
      "https://scrapy.org/\n"
     ]
    }
   ],
   "source": [
    "for link in soup.find_all('a'):\n",
    "    print(link.get('href'))"
   ]
  },
  {
   "cell_type": "markdown",
   "metadata": {},
   "source": [
    "Podemos selecionar todos os links contidos no elemento `<body>`"
   ]
  },
  {
   "cell_type": "code",
   "execution_count": 20,
   "metadata": {},
   "outputs": [
    {
     "data": {
      "text/plain": [
       "[<a href=\"https://www.python.org/\">Python</a>,\n",
       " <a href=\"https://github.com/psf/requests-html\">Requests-HTML</a>,\n",
       " <a href=\"https://www.crummy.com/software/BeautifulSoup/bs4/doc/\">Beautiful Soup</a>,\n",
       " <a href=\"https://scrapy.org/\">Scrapy</a>]"
      ]
     },
     "execution_count": 20,
     "metadata": {},
     "output_type": "execute_result"
    }
   ],
   "source": [
    "soup.select(\"body a\")"
   ]
  },
  {
   "cell_type": "markdown",
   "metadata": {},
   "source": [
    "Podemos selecionar todos os links que possuam o atributo **'href'**"
   ]
  },
  {
   "cell_type": "code",
   "execution_count": 21,
   "metadata": {},
   "outputs": [
    {
     "data": {
      "text/plain": [
       "[<a href=\"https://www.python.org/\">Python</a>,\n",
       " <a href=\"https://github.com/psf/requests-html\">Requests-HTML</a>,\n",
       " <a href=\"https://www.crummy.com/software/BeautifulSoup/bs4/doc/\">Beautiful Soup</a>,\n",
       " <a href=\"https://scrapy.org/\">Scrapy</a>]"
      ]
     },
     "execution_count": 21,
     "metadata": {},
     "output_type": "execute_result"
    }
   ],
   "source": [
    "soup.select('a[href]')"
   ]
  },
  {
   "cell_type": "markdown",
   "metadata": {},
   "source": [
    "Podemos selecionar todos os elementos que possuam o id **titulo**"
   ]
  },
  {
   "cell_type": "code",
   "execution_count": 22,
   "metadata": {},
   "outputs": [
    {
     "data": {
      "text/plain": [
       "[<h3 id=\"titulo\">Linguagens de Programação</h3>,\n",
       " <h3 id=\"titulo\">Grandes Matemáticos</h3>]"
      ]
     },
     "execution_count": 22,
     "metadata": {},
     "output_type": "execute_result"
    }
   ],
   "source": [
    "soup.select(\"#titulo\")"
   ]
  },
  {
   "cell_type": "markdown",
   "metadata": {},
   "source": [
    "Podemos selecionar todos os elementos que possuam a classe **python**"
   ]
  },
  {
   "cell_type": "code",
   "execution_count": 23,
   "metadata": {},
   "outputs": [
    {
     "data": {
      "text/plain": [
       "[<li class=\"python\">Python</li>]"
      ]
     },
     "execution_count": 23,
     "metadata": {},
     "output_type": "execute_result"
    }
   ],
   "source": [
    "soup.select('.python')"
   ]
  },
  {
   "cell_type": "markdown",
   "metadata": {},
   "source": [
    "Podemos selecionar todos os dados de uma tabela"
   ]
  },
  {
   "cell_type": "code",
   "execution_count": 24,
   "metadata": {},
   "outputs": [
    {
     "data": {
      "text/plain": [
       "[<td>Alan</td>,\n",
       " <td>Turing</td>,\n",
       " <td>alan@turing.com</td>,\n",
       " <td>John</td>,\n",
       " <td>von Neumann</td>,\n",
       " <td>john@voneumann.com</td>,\n",
       " <td>Blaise</td>,\n",
       " <td>Pascal</td>,\n",
       " <td>blaise@pascal.com</td>]"
      ]
     },
     "execution_count": 24,
     "metadata": {},
     "output_type": "execute_result"
    }
   ],
   "source": [
    "soup.select('table > tr > td')"
   ]
  },
  {
   "cell_type": "markdown",
   "metadata": {},
   "source": [
    "É possível usarmos um **for loop** para obtermos uma representação de nossa página como diversas strings"
   ]
  },
  {
   "cell_type": "code",
   "execution_count": 25,
   "metadata": {},
   "outputs": [
    {
     "name": "stdout",
     "output_type": "stream",
     "text": [
      "'\\n'\n",
      "'\\n'\n",
      "'\\n'\n",
      "'\\n'\n",
      "'Web Scraping Tutorial com Python'\n",
      "'\\n'\n",
      "'\\n'\n",
      "'\\n'\n",
      "'\\n'\n",
      "'\\n'\n",
      "'Web Scraping'\n",
      "'\\n'\n",
      "'Estrutura Básica HTML'\n",
      "'\\n'\n",
      "'\\n'\n",
      "'Aprendendo Web Scraping com '\n",
      "'Python'\n",
      "',\\n\\t'\n",
      "'Requests-HTML'\n",
      "',\\n\\t'\n",
      "'Beautiful Soup'\n",
      "' e\\n\\t'\n",
      "'Scrapy'\n",
      "'\\n'\n",
      "'\\n'\n",
      "'“Logic will get you from A to Z; imagination will get you everywhere.” '\n",
      "'Albert Einstein'\n",
      "'\\n'\n",
      "'Linguagens de Programação'\n",
      "'\\n'\n",
      "'\\n'\n",
      "'Python'\n",
      "'\\n'\n",
      "'Perl'\n",
      "'\\n'\n",
      "'PHP'\n",
      "'\\n'\n",
      "'\\n'\n",
      "'Grandes Matemáticos'\n",
      "'\\n'\n",
      "'\\n'\n",
      "'\\n'\n",
      "'Nome'\n",
      "'\\n'\n",
      "'Sobrenome'\n",
      "'\\n'\n",
      "'Email'\n",
      "'\\n'\n",
      "'\\n'\n",
      "'\\n'\n",
      "'Alan'\n",
      "'\\n'\n",
      "'Turing'\n",
      "'\\n'\n",
      "'alan@turing.com'\n",
      "'\\n'\n",
      "'\\n'\n",
      "'\\n'\n",
      "'John'\n",
      "'\\n'\n",
      "'von Neumann'\n",
      "'\\n'\n",
      "'john@voneumann.com'\n",
      "'\\n'\n",
      "'\\n'\n",
      "'\\n'\n",
      "'Blaise'\n",
      "'\\n'\n",
      "'Pascal'\n",
      "'\\n'\n",
      "'blaise@pascal.com'\n",
      "'\\n'\n",
      "'\\n'\n",
      "'\\n'\n",
      "'\\n'\n",
      "'\\n'\n"
     ]
    }
   ],
   "source": [
    "for string in soup.strings:\n",
    "    print(repr(string))"
   ]
  }
 ],
 "metadata": {
  "kernelspec": {
   "display_name": "Python 3",
   "language": "python",
   "name": "python3"
  },
  "language_info": {
   "codemirror_mode": {
    "name": "ipython",
    "version": 3
   },
   "file_extension": ".py",
   "mimetype": "text/x-python",
   "name": "python",
   "nbconvert_exporter": "python",
   "pygments_lexer": "ipython3",
   "version": "3.7.7"
  }
 },
 "nbformat": 4,
 "nbformat_minor": 4
}
